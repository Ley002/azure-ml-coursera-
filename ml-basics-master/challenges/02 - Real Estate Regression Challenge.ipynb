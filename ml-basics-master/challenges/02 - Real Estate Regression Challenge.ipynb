{
 "cells": [
  {
   "cell_type": "markdown",
   "metadata": {},
   "source": [
    "# Desafío de regresión\n",
    "\n",
    "La predicción del precio de venta de una propiedad residencial depende de varios factores, incluida la antigüedad de la propiedad, la disponibilidad de servicios locales y la ubicación.\n",
    "\n",
    "En este desafío, utilizará un conjunto de datos de transacciones de venta  para predecir el precio por unidad de una propiedad en función de sus características. El precio por unidad en estos datos se basa en una medida unitaria de 3,3 metros cuadrados.\n",
    "\n",
    "> ** Cita **: Los datos utilizados en este ejercicio provienen del siguiente estudio:\n",
    ">\n",
    "> * Yeh, I. C. y Hsu, T. K. (2018). Construcción de modelos de valoración inmobiliaria con enfoque comparativo mediante razonamiento basado en casos. Computación blanda aplicada, 65, 260-271. *\n",
    ">\n",
    "> Se obtuvo del repositorio de conjuntos de datos de la UCI (Dua, D. y Graff, C. (2019). [Repositorio de aprendizaje automático de la UCI] ([http://archive.ics.uci.edu/ml). Irvine, CA: Universidad de California, Facultad de Información y Ciencias de la Computación).\n",
    "\n",
    "## Revisa los datos\n",
    "\n",
    "Ejecute la siguiente celda para cargar los datos y ver las primeras filas."
   ]
  },
  {
   "cell_type": "code",
   "execution_count": null,
   "metadata": {
    "scrolled": true
   },
   "outputs": [],
   "source": [
    "import pandas as pd\n",
    "\n",
    "# load the training dataset\n",
    "data = pd.read_csv('data/real_estate.csv')\n",
    "data.head()"
   ]
  },
  {
   "cell_type": "markdown",
   "metadata": {},
   "source": [
    "Los datos constan de las siguientes variables:\n",
    "\n",
    "- **transaction_date**: la fecha de la transacción (por ejemplo, 2013.250 = 2013 marzo, 2013.500 = 2013 junio, etc.)\n",
    "- **house_age** - la edad de la casa (en años)\n",
    "- **transit_distance**: la distancia a la estación de tren ligero más cercana (en metros)\n",
    "- **local_convenience_stores**: la cantidad de tiendas de conveniencia a poca distancia\n",
    "- **latitud** - la coordenada geográfica, latitud\n",
    "- **longitud** - la coordenada geográfica, longitud\n",
    "- **precio_por_unidad** precio de la vivienda por unidad de superficie (3,3 metros cuadrados)\n",
    "\n",
    "## Entrenar un modelo de regresión\n",
    "\n",
    "Su desafío es explorar y preparar los datos, identificar las características predictivas que ayudarán a predecir la etiqueta **price_per_unit** y entrenar un modelo de regresión que logre el error cuadrático medio (RMSE) más bajo que pueda lograr (que debe ser menor que **7**) cuando se evalúa frente a un subconjunto de datos de prueba.\n",
    "\n",
    "\n",
    "> ** Nota **: No existe una única solución \"correcta\". Se proporciona una solución de muestra en [02 - Real Estate Regression Solution.ipynb] (02% 20-% 20Real% 20Estate% 20Regression% 20Solution.ipynb)."
   ]
  },
  {
   "cell_type": "code",
   "execution_count": null,
   "metadata": {},
   "outputs": [],
   "source": [
    "# Su código para explorar datos y entrenar un modelo de regresión"
   ]
  },
  {
   "cell_type": "markdown",
   "metadata": {},
   "source": [
    "## Usa el modelo capacitado\n",
    "\n",
    "Guarde su modelo entrenado y luego utilícelo para predecir el precio por unidad para las siguientes transacciones inmobiliarias:\n",
    "\n",
    "| transacción_fecha | house_age | transit_distance | locales_convenience_stores | latitud | longitud |\n",
    "| ---------------- | --------- | ---------------- | ------------------------ | -------- | --------- |\n",
    "| 2013.167 | 16.2 | 289.3248 | 5 | 24.98203 | 121.54348 |\n",
    "| 2013.000 | 13.6 | 4082.015 | 0 | 24.94155 | 121.50381 |"
   ]
  },
  {
   "cell_type": "code",
   "execution_count": null,
   "metadata": {},
   "outputs": [],
   "source": [
    "# Tu código para usar el modelo entrenado"
   ]
  },
  {
   "cell_type": "code",
   "execution_count": null,
   "metadata": {},
   "outputs": [],
   "source": []
  }
 ],
 "metadata": {
  "kernelspec": {
   "display_name": "Python 3.6 - AzureML",
   "language": "python",
   "name": "python3-azureml"
  },
  "language_info": {
   "codemirror_mode": {
    "name": "ipython",
    "version": 3
   },
   "file_extension": ".py",
   "mimetype": "text/x-python",
   "name": "python",
   "nbconvert_exporter": "python",
   "pygments_lexer": "ipython3",
   "version": "3.6.9"
  }
 },
 "nbformat": 4,
 "nbformat_minor": 2
}
