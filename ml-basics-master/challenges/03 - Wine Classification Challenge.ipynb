{
 "cells": [
  {
   "cell_type": "markdown",
   "metadata": {},
   "source": [
    "# Desafío de clasificación\n",
    "\n",
    "Los expertos en vino pueden identificar vinos de viñedos específicos a través del olor y el sabor, pero los factores que dan a los diferentes vinos sus características individuales se basan en realidad en su composición química.\n",
    "\n",
    "En este desafío, debe entrenar un modelo de clasificación para analizar las características químicas y visuales de las muestras de vino y clasificarlas en función de su cultivo (variedad de uva).\n",
    "\n",
    "> ** Cita **: Los datos utilizados en este ejercicio fueron recopilados originalmente por Forina, M. et al.\n",
    ">\n",
    "> PARVUS: un paquete ampliable para la exploración, clasificación y correlación de datos.\n",
    "Instituto de Análisis y Tecnologías Farmacéuticas y Alimentarias, Via Brigata Salerno,\n",
    "16147 Génova, Italia.\n",
    ">\n",
    "> Se puede descargar del repositorio de conjuntos de datos de la UCI (Dua, D. y Graff, C. (2019). [Repositorio de aprendizaje automático de la UCI] ([http://archive.ics.uci.edu/ml). Irvine, CA : Universidad de California, Facultad de Información y Ciencias de la Computación)."
   ]
  },
  {
   "cell_type": "markdown",
   "metadata": {},
   "source": [
    "## Explore los datos\n",
    "\n",
    "Ejecute la siguiente celda para cargar un archivo CSV de datos de vino, que consta de 12 características numéricas y una etiqueta de clasificación con las siguientes clases:\n",
    "\n",
    "- ** 0 ** (* variedad A *)\n",
    "- ** 1 ** (* variedad B *)\n",
    "- ** 2 ** (* variedad C *)"
   ]
  },
  {
   "cell_type": "code",
   "execution_count": null,
   "metadata": {
    "scrolled": false
   },
   "outputs": [],
   "source": [
    "import pandas as pd\n",
    "\n",
    "# load the training dataset\n",
    "data = pd.read_csv('data/wine.csv')\n",
    "data.sample(10)"
   ]
  },
  {
   "cell_type": "markdown",
   "metadata": {},
   "source": [
    "Su desafío es explorar los datos y entrenar un modelo de clasificación que logre una métrica general * Recuperación * de más de 0,95 (95%).\n",
    "\n",
    "> ** Nota **: No existe una única solución \"correcta\". Se proporciona una solución de muestra en [03 - Wine Classification Solution.ipynb] (03% 20-% 20Wine% 20Classification% 20Solution.ipynb)."
   ]
  },
  {
   "cell_type": "markdown",
   "metadata": {},
   "source": [
    "## Entrenar y evaluar un modelo\n",
    "\n",
    "Agregue markdown y codifique celdas según sea necesario para explorar los datos, entrenar un modelo y evaluar el rendimiento predictivo del modelo."
   ]
  },
  {
   "cell_type": "code",
   "execution_count": null,
   "metadata": {
    "tags": []
   },
   "outputs": [],
   "source": [
    "# Su código para evaluar datos y entrenar y evaluar un modelo de clasificación"
   ]
  },
  {
   "cell_type": "markdown",
   "metadata": {},
   "source": [
    "## Usa el modelo con nueva observación de datos\n",
    "\n",
    "Cuando esté satisfecho con el rendimiento predictivo de su modelo, guárdelo y luego úselo para predecir clases para las siguientes dos nuevas muestras de vino:\n",
    "\n",
    "- \\ [13.72,1.43,2.5,16.7,108,3.4,3.67,0.19,2.04,6.8,0.89,2.87,1285 \\]\n",
    "- \\ [12.37,0.94,1.36,10.6,88,1.98,0.57,0.28,0.42,1.95,1.05,1.82,520 \\]"
   ]
  },
  {
   "cell_type": "code",
   "execution_count": null,
   "metadata": {
    "tags": []
   },
   "outputs": [],
   "source": [
    "# Su código para predecir clases para las dos nuevas muestras"
   ]
  },
  {
   "cell_type": "code",
   "execution_count": null,
   "metadata": {},
   "outputs": [],
   "source": []
  }
 ],
 "metadata": {
  "kernelspec": {
   "display_name": "Python 3.6 - AzureML",
   "language": "python",
   "name": "python3-azureml"
  },
  "language_info": {
   "codemirror_mode": {
    "name": "ipython",
    "version": 3
   },
   "file_extension": ".py",
   "mimetype": "text/x-python",
   "name": "python",
   "nbconvert_exporter": "python",
   "pygments_lexer": "ipython3",
   "version": "3.6.9"
  }
 },
 "nbformat": 4,
 "nbformat_minor": 2
}
